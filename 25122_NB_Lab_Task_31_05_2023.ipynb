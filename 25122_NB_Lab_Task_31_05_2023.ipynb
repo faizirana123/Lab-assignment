{
  "cells": [
    {
      "cell_type": "markdown",
      "metadata": {
        "id": "view-in-github",
        "colab_type": "text"
      },
      "source": [
        "<a href=\"https://colab.research.google.com/github/faizirana123/Lab-assignment/blob/main/25122_NB_Lab_Task_31_05_2023.ipynb\" target=\"_parent\"><img src=\"https://colab.research.google.com/assets/colab-badge.svg\" alt=\"Open In Colab\"/></a>"
      ]
    },
    {
      "cell_type": "code",
      "execution_count": null,
      "metadata": {
        "id": "Zh3BoOGgFqKa"
      },
      "outputs": [],
      "source": [
        "import numpy as np\n",
        "import pandas as pd\n",
        "from sklearn.feature_extraction.text import CountVectorizer\n",
        "from sklearn.naive_bayes import MultinomialNB\n",
        "from sklearn.metrics import accuracy_score\n"
      ]
    },
    {
      "cell_type": "code",
      "execution_count": 79,
      "metadata": {
        "id": "zDp9LfxSFqKe"
      },
      "outputs": [],
      "source": [
        "df1 = pd.read_csv(\"Test_spam.csv\", encoding='latin1')\n"
      ]
    },
    {
      "cell_type": "code",
      "execution_count": 80,
      "metadata": {
        "colab": {
          "base_uri": "https://localhost:8080/",
          "height": 426
        },
        "id": "Wpfz6Yx_FqKf",
        "outputId": "c7769b27-b44c-4236-cd69-9c4cc3541c41"
      },
      "outputs": [
        {
          "output_type": "execute_result",
          "data": {
            "text/plain": [
              "      v1                                                 v2\n",
              "0   spam  FreeMsg Hey there darling it's been 3 week's n...\n",
              "1    ham  Even my brother is not like to speak with me. ...\n",
              "2    ham  As per your request 'Melle Melle (Oru Minnamin...\n",
              "3   spam  WINNER!! As a valued network customer you have...\n",
              "4   spam  Had your mobile 11 months or more? U R entitle...\n",
              "5    ham  I'm gonna be home soon and i don't want to tal...\n",
              "6   spam  SIX chances to win CASH! From 100 to 20,000 po...\n",
              "7   spam  URGENT! You have won a 1 week FREE membership ...\n",
              "8    ham  I've been searching for the right words to tha...\n",
              "9    ham                I HAVE A DATE ON SUNDAY WITH WILL!!\n",
              "10  spam  XXXMobileMovieClub: To use your credit, click ...\n",
              "11   ham                         Oh k...i'm watching here:)"
            ],
            "text/html": [
              "\n",
              "  <div id=\"df-23d8654b-9df8-4579-8387-bb0978087a9e\">\n",
              "    <div class=\"colab-df-container\">\n",
              "      <div>\n",
              "<style scoped>\n",
              "    .dataframe tbody tr th:only-of-type {\n",
              "        vertical-align: middle;\n",
              "    }\n",
              "\n",
              "    .dataframe tbody tr th {\n",
              "        vertical-align: top;\n",
              "    }\n",
              "\n",
              "    .dataframe thead th {\n",
              "        text-align: right;\n",
              "    }\n",
              "</style>\n",
              "<table border=\"1\" class=\"dataframe\">\n",
              "  <thead>\n",
              "    <tr style=\"text-align: right;\">\n",
              "      <th></th>\n",
              "      <th>v1</th>\n",
              "      <th>v2</th>\n",
              "    </tr>\n",
              "  </thead>\n",
              "  <tbody>\n",
              "    <tr>\n",
              "      <th>0</th>\n",
              "      <td>spam</td>\n",
              "      <td>FreeMsg Hey there darling it's been 3 week's n...</td>\n",
              "    </tr>\n",
              "    <tr>\n",
              "      <th>1</th>\n",
              "      <td>ham</td>\n",
              "      <td>Even my brother is not like to speak with me. ...</td>\n",
              "    </tr>\n",
              "    <tr>\n",
              "      <th>2</th>\n",
              "      <td>ham</td>\n",
              "      <td>As per your request 'Melle Melle (Oru Minnamin...</td>\n",
              "    </tr>\n",
              "    <tr>\n",
              "      <th>3</th>\n",
              "      <td>spam</td>\n",
              "      <td>WINNER!! As a valued network customer you have...</td>\n",
              "    </tr>\n",
              "    <tr>\n",
              "      <th>4</th>\n",
              "      <td>spam</td>\n",
              "      <td>Had your mobile 11 months or more? U R entitle...</td>\n",
              "    </tr>\n",
              "    <tr>\n",
              "      <th>5</th>\n",
              "      <td>ham</td>\n",
              "      <td>I'm gonna be home soon and i don't want to tal...</td>\n",
              "    </tr>\n",
              "    <tr>\n",
              "      <th>6</th>\n",
              "      <td>spam</td>\n",
              "      <td>SIX chances to win CASH! From 100 to 20,000 po...</td>\n",
              "    </tr>\n",
              "    <tr>\n",
              "      <th>7</th>\n",
              "      <td>spam</td>\n",
              "      <td>URGENT! You have won a 1 week FREE membership ...</td>\n",
              "    </tr>\n",
              "    <tr>\n",
              "      <th>8</th>\n",
              "      <td>ham</td>\n",
              "      <td>I've been searching for the right words to tha...</td>\n",
              "    </tr>\n",
              "    <tr>\n",
              "      <th>9</th>\n",
              "      <td>ham</td>\n",
              "      <td>I HAVE A DATE ON SUNDAY WITH WILL!!</td>\n",
              "    </tr>\n",
              "    <tr>\n",
              "      <th>10</th>\n",
              "      <td>spam</td>\n",
              "      <td>XXXMobileMovieClub: To use your credit, click ...</td>\n",
              "    </tr>\n",
              "    <tr>\n",
              "      <th>11</th>\n",
              "      <td>ham</td>\n",
              "      <td>Oh k...i'm watching here:)</td>\n",
              "    </tr>\n",
              "  </tbody>\n",
              "</table>\n",
              "</div>\n",
              "      <button class=\"colab-df-convert\" onclick=\"convertToInteractive('df-23d8654b-9df8-4579-8387-bb0978087a9e')\"\n",
              "              title=\"Convert this dataframe to an interactive table.\"\n",
              "              style=\"display:none;\">\n",
              "        \n",
              "  <svg xmlns=\"http://www.w3.org/2000/svg\" height=\"24px\"viewBox=\"0 0 24 24\"\n",
              "       width=\"24px\">\n",
              "    <path d=\"M0 0h24v24H0V0z\" fill=\"none\"/>\n",
              "    <path d=\"M18.56 5.44l.94 2.06.94-2.06 2.06-.94-2.06-.94-.94-2.06-.94 2.06-2.06.94zm-11 1L8.5 8.5l.94-2.06 2.06-.94-2.06-.94L8.5 2.5l-.94 2.06-2.06.94zm10 10l.94 2.06.94-2.06 2.06-.94-2.06-.94-.94-2.06-.94 2.06-2.06.94z\"/><path d=\"M17.41 7.96l-1.37-1.37c-.4-.4-.92-.59-1.43-.59-.52 0-1.04.2-1.43.59L10.3 9.45l-7.72 7.72c-.78.78-.78 2.05 0 2.83L4 21.41c.39.39.9.59 1.41.59.51 0 1.02-.2 1.41-.59l7.78-7.78 2.81-2.81c.8-.78.8-2.07 0-2.86zM5.41 20L4 18.59l7.72-7.72 1.47 1.35L5.41 20z\"/>\n",
              "  </svg>\n",
              "      </button>\n",
              "      \n",
              "  <style>\n",
              "    .colab-df-container {\n",
              "      display:flex;\n",
              "      flex-wrap:wrap;\n",
              "      gap: 12px;\n",
              "    }\n",
              "\n",
              "    .colab-df-convert {\n",
              "      background-color: #E8F0FE;\n",
              "      border: none;\n",
              "      border-radius: 50%;\n",
              "      cursor: pointer;\n",
              "      display: none;\n",
              "      fill: #1967D2;\n",
              "      height: 32px;\n",
              "      padding: 0 0 0 0;\n",
              "      width: 32px;\n",
              "    }\n",
              "\n",
              "    .colab-df-convert:hover {\n",
              "      background-color: #E2EBFA;\n",
              "      box-shadow: 0px 1px 2px rgba(60, 64, 67, 0.3), 0px 1px 3px 1px rgba(60, 64, 67, 0.15);\n",
              "      fill: #174EA6;\n",
              "    }\n",
              "\n",
              "    [theme=dark] .colab-df-convert {\n",
              "      background-color: #3B4455;\n",
              "      fill: #D2E3FC;\n",
              "    }\n",
              "\n",
              "    [theme=dark] .colab-df-convert:hover {\n",
              "      background-color: #434B5C;\n",
              "      box-shadow: 0px 1px 3px 1px rgba(0, 0, 0, 0.15);\n",
              "      filter: drop-shadow(0px 1px 2px rgba(0, 0, 0, 0.3));\n",
              "      fill: #FFFFFF;\n",
              "    }\n",
              "  </style>\n",
              "\n",
              "      <script>\n",
              "        const buttonEl =\n",
              "          document.querySelector('#df-23d8654b-9df8-4579-8387-bb0978087a9e button.colab-df-convert');\n",
              "        buttonEl.style.display =\n",
              "          google.colab.kernel.accessAllowed ? 'block' : 'none';\n",
              "\n",
              "        async function convertToInteractive(key) {\n",
              "          const element = document.querySelector('#df-23d8654b-9df8-4579-8387-bb0978087a9e');\n",
              "          const dataTable =\n",
              "            await google.colab.kernel.invokeFunction('convertToInteractive',\n",
              "                                                     [key], {});\n",
              "          if (!dataTable) return;\n",
              "\n",
              "          const docLinkHtml = 'Like what you see? Visit the ' +\n",
              "            '<a target=\"_blank\" href=https://colab.research.google.com/notebooks/data_table.ipynb>data table notebook</a>'\n",
              "            + ' to learn more about interactive tables.';\n",
              "          element.innerHTML = '';\n",
              "          dataTable['output_type'] = 'display_data';\n",
              "          await google.colab.output.renderOutput(dataTable, element);\n",
              "          const docLink = document.createElement('div');\n",
              "          docLink.innerHTML = docLinkHtml;\n",
              "          element.appendChild(docLink);\n",
              "        }\n",
              "      </script>\n",
              "    </div>\n",
              "  </div>\n",
              "  "
            ]
          },
          "metadata": {},
          "execution_count": 80
        }
      ],
      "source": [
        "df1"
      ]
    },
    {
      "cell_type": "code",
      "execution_count": 81,
      "metadata": {
        "colab": {
          "base_uri": "https://localhost:8080/",
          "height": 426
        },
        "id": "8oZkzua9FqKg",
        "outputId": "84f0eec0-ba2a-41a3-a150-ffeefb793c92"
      },
      "outputs": [
        {
          "output_type": "execute_result",
          "data": {
            "text/plain": [
              "    v1                                                 v2\n",
              "0    1  FreeMsg Hey there darling it's been 3 week's n...\n",
              "1    0  Even my brother is not like to speak with me. ...\n",
              "2    0  As per your request 'Melle Melle (Oru Minnamin...\n",
              "3    1  WINNER!! As a valued network customer you have...\n",
              "4    1  Had your mobile 11 months or more? U R entitle...\n",
              "5    0  I'm gonna be home soon and i don't want to tal...\n",
              "6    1  SIX chances to win CASH! From 100 to 20,000 po...\n",
              "7    1  URGENT! You have won a 1 week FREE membership ...\n",
              "8    0  I've been searching for the right words to tha...\n",
              "9    0                I HAVE A DATE ON SUNDAY WITH WILL!!\n",
              "10   1  XXXMobileMovieClub: To use your credit, click ...\n",
              "11   0                         Oh k...i'm watching here:)"
            ],
            "text/html": [
              "\n",
              "  <div id=\"df-d5b50b08-a157-43df-97dc-e7d244102c66\">\n",
              "    <div class=\"colab-df-container\">\n",
              "      <div>\n",
              "<style scoped>\n",
              "    .dataframe tbody tr th:only-of-type {\n",
              "        vertical-align: middle;\n",
              "    }\n",
              "\n",
              "    .dataframe tbody tr th {\n",
              "        vertical-align: top;\n",
              "    }\n",
              "\n",
              "    .dataframe thead th {\n",
              "        text-align: right;\n",
              "    }\n",
              "</style>\n",
              "<table border=\"1\" class=\"dataframe\">\n",
              "  <thead>\n",
              "    <tr style=\"text-align: right;\">\n",
              "      <th></th>\n",
              "      <th>v1</th>\n",
              "      <th>v2</th>\n",
              "    </tr>\n",
              "  </thead>\n",
              "  <tbody>\n",
              "    <tr>\n",
              "      <th>0</th>\n",
              "      <td>1</td>\n",
              "      <td>FreeMsg Hey there darling it's been 3 week's n...</td>\n",
              "    </tr>\n",
              "    <tr>\n",
              "      <th>1</th>\n",
              "      <td>0</td>\n",
              "      <td>Even my brother is not like to speak with me. ...</td>\n",
              "    </tr>\n",
              "    <tr>\n",
              "      <th>2</th>\n",
              "      <td>0</td>\n",
              "      <td>As per your request 'Melle Melle (Oru Minnamin...</td>\n",
              "    </tr>\n",
              "    <tr>\n",
              "      <th>3</th>\n",
              "      <td>1</td>\n",
              "      <td>WINNER!! As a valued network customer you have...</td>\n",
              "    </tr>\n",
              "    <tr>\n",
              "      <th>4</th>\n",
              "      <td>1</td>\n",
              "      <td>Had your mobile 11 months or more? U R entitle...</td>\n",
              "    </tr>\n",
              "    <tr>\n",
              "      <th>5</th>\n",
              "      <td>0</td>\n",
              "      <td>I'm gonna be home soon and i don't want to tal...</td>\n",
              "    </tr>\n",
              "    <tr>\n",
              "      <th>6</th>\n",
              "      <td>1</td>\n",
              "      <td>SIX chances to win CASH! From 100 to 20,000 po...</td>\n",
              "    </tr>\n",
              "    <tr>\n",
              "      <th>7</th>\n",
              "      <td>1</td>\n",
              "      <td>URGENT! You have won a 1 week FREE membership ...</td>\n",
              "    </tr>\n",
              "    <tr>\n",
              "      <th>8</th>\n",
              "      <td>0</td>\n",
              "      <td>I've been searching for the right words to tha...</td>\n",
              "    </tr>\n",
              "    <tr>\n",
              "      <th>9</th>\n",
              "      <td>0</td>\n",
              "      <td>I HAVE A DATE ON SUNDAY WITH WILL!!</td>\n",
              "    </tr>\n",
              "    <tr>\n",
              "      <th>10</th>\n",
              "      <td>1</td>\n",
              "      <td>XXXMobileMovieClub: To use your credit, click ...</td>\n",
              "    </tr>\n",
              "    <tr>\n",
              "      <th>11</th>\n",
              "      <td>0</td>\n",
              "      <td>Oh k...i'm watching here:)</td>\n",
              "    </tr>\n",
              "  </tbody>\n",
              "</table>\n",
              "</div>\n",
              "      <button class=\"colab-df-convert\" onclick=\"convertToInteractive('df-d5b50b08-a157-43df-97dc-e7d244102c66')\"\n",
              "              title=\"Convert this dataframe to an interactive table.\"\n",
              "              style=\"display:none;\">\n",
              "        \n",
              "  <svg xmlns=\"http://www.w3.org/2000/svg\" height=\"24px\"viewBox=\"0 0 24 24\"\n",
              "       width=\"24px\">\n",
              "    <path d=\"M0 0h24v24H0V0z\" fill=\"none\"/>\n",
              "    <path d=\"M18.56 5.44l.94 2.06.94-2.06 2.06-.94-2.06-.94-.94-2.06-.94 2.06-2.06.94zm-11 1L8.5 8.5l.94-2.06 2.06-.94-2.06-.94L8.5 2.5l-.94 2.06-2.06.94zm10 10l.94 2.06.94-2.06 2.06-.94-2.06-.94-.94-2.06-.94 2.06-2.06.94z\"/><path d=\"M17.41 7.96l-1.37-1.37c-.4-.4-.92-.59-1.43-.59-.52 0-1.04.2-1.43.59L10.3 9.45l-7.72 7.72c-.78.78-.78 2.05 0 2.83L4 21.41c.39.39.9.59 1.41.59.51 0 1.02-.2 1.41-.59l7.78-7.78 2.81-2.81c.8-.78.8-2.07 0-2.86zM5.41 20L4 18.59l7.72-7.72 1.47 1.35L5.41 20z\"/>\n",
              "  </svg>\n",
              "      </button>\n",
              "      \n",
              "  <style>\n",
              "    .colab-df-container {\n",
              "      display:flex;\n",
              "      flex-wrap:wrap;\n",
              "      gap: 12px;\n",
              "    }\n",
              "\n",
              "    .colab-df-convert {\n",
              "      background-color: #E8F0FE;\n",
              "      border: none;\n",
              "      border-radius: 50%;\n",
              "      cursor: pointer;\n",
              "      display: none;\n",
              "      fill: #1967D2;\n",
              "      height: 32px;\n",
              "      padding: 0 0 0 0;\n",
              "      width: 32px;\n",
              "    }\n",
              "\n",
              "    .colab-df-convert:hover {\n",
              "      background-color: #E2EBFA;\n",
              "      box-shadow: 0px 1px 2px rgba(60, 64, 67, 0.3), 0px 1px 3px 1px rgba(60, 64, 67, 0.15);\n",
              "      fill: #174EA6;\n",
              "    }\n",
              "\n",
              "    [theme=dark] .colab-df-convert {\n",
              "      background-color: #3B4455;\n",
              "      fill: #D2E3FC;\n",
              "    }\n",
              "\n",
              "    [theme=dark] .colab-df-convert:hover {\n",
              "      background-color: #434B5C;\n",
              "      box-shadow: 0px 1px 3px 1px rgba(0, 0, 0, 0.15);\n",
              "      filter: drop-shadow(0px 1px 2px rgba(0, 0, 0, 0.3));\n",
              "      fill: #FFFFFF;\n",
              "    }\n",
              "  </style>\n",
              "\n",
              "      <script>\n",
              "        const buttonEl =\n",
              "          document.querySelector('#df-d5b50b08-a157-43df-97dc-e7d244102c66 button.colab-df-convert');\n",
              "        buttonEl.style.display =\n",
              "          google.colab.kernel.accessAllowed ? 'block' : 'none';\n",
              "\n",
              "        async function convertToInteractive(key) {\n",
              "          const element = document.querySelector('#df-d5b50b08-a157-43df-97dc-e7d244102c66');\n",
              "          const dataTable =\n",
              "            await google.colab.kernel.invokeFunction('convertToInteractive',\n",
              "                                                     [key], {});\n",
              "          if (!dataTable) return;\n",
              "\n",
              "          const docLinkHtml = 'Like what you see? Visit the ' +\n",
              "            '<a target=\"_blank\" href=https://colab.research.google.com/notebooks/data_table.ipynb>data table notebook</a>'\n",
              "            + ' to learn more about interactive tables.';\n",
              "          element.innerHTML = '';\n",
              "          dataTable['output_type'] = 'display_data';\n",
              "          await google.colab.output.renderOutput(dataTable, element);\n",
              "          const docLink = document.createElement('div');\n",
              "          docLink.innerHTML = docLinkHtml;\n",
              "          element.appendChild(docLink);\n",
              "        }\n",
              "      </script>\n",
              "    </div>\n",
              "  </div>\n",
              "  "
            ]
          },
          "metadata": {},
          "execution_count": 81
        }
      ],
      "source": [
        "df1['v1'] = df1.v1.map({'ham':0, 'spam':1})\n",
        "df1"
      ]
    },
    {
      "cell_type": "code",
      "execution_count": 82,
      "metadata": {
        "id": "7pTUVAhrFqKh"
      },
      "outputs": [],
      "source": [
        "X= df1['v2'].to_numpy()\n",
        "Y = df1['v1'].to_numpy()\n",
        "Y = Y.astype('int')\n"
      ]
    },
    {
      "cell_type": "code",
      "execution_count": 83,
      "metadata": {
        "colab": {
          "base_uri": "https://localhost:8080/"
        },
        "id": "ZYFfPw3EFqKh",
        "outputId": "9a92a82e-927a-42b4-8df8-0e7b5ecdb46a"
      },
      "outputs": [
        {
          "output_type": "stream",
          "name": "stdout",
          "text": [
            "X\n",
            "[\"FreeMsg Hey there darling it's been 3 week's now and no word back! I'd like some fun you up for it still? Tb ok! XxX std chgs to send, å£1.50 to rcv\"\n",
            " 'Even my brother is not like to speak with me. They treat me like aids patent.'\n",
            " \"As per your request 'Melle Melle (Oru Minnaminunginte Nurungu Vettam)' has been set as your callertune for all Callers. Press *9 to copy your friends Callertune\"\n",
            " 'WINNER!! As a valued network customer you have been selected to receivea å£900 prize reward! To claim call 09061701461. Claim code KL341. Valid 12 hours only.'\n",
            " 'Had your mobile 11 months or more? U R entitled to Update to the latest colour mobiles with camera for Free! Call The Mobile Update Co FREE on 08002986030'\n",
            " \"I'm gonna be home soon and i don't want to talk about this stuff anymore tonight, k? I've cried enough today.\"\n",
            " 'SIX chances to win CASH! From 100 to 20,000 pounds txt> CSH11 and send to 87575. Cost 150p/day, 6days, 16+ TsandCs apply Reply HL 4 info'\n",
            " 'URGENT! You have won a 1 week FREE membership in our å£100,000 Prize Jackpot! Txt the word: CLAIM to No: 81010 T&C www.dbuk.net LCCLTD POBOX 4403LDNW1A7RW18'\n",
            " \"I've been searching for the right words to thank you for this breather. I promise i wont take your help for granted and will fulfil my promise. You have been wonderful and a blessing at all times.\"\n",
            " 'I HAVE A DATE ON SUNDAY WITH WILL!!'\n",
            " 'XXXMobileMovieClub: To use your credit, click the WAP link in the next txt message or click here>> http://wap. xxxmobilemovieclub.com?n=QJKGIGHJJGCBL'\n",
            " \"Oh k...i'm watching here:)\"]\n",
            "y\n",
            "[1 0 0 1 1 0 1 1 0 0 1 0]\n"
          ]
        }
      ],
      "source": [
        "print(\"X\")\n",
        "print(X)\n",
        "print(\"y\")\n",
        "print(Y)"
      ]
    },
    {
      "cell_type": "code",
      "execution_count": 84,
      "metadata": {
        "id": "UkcgZ3NRFqKi"
      },
      "outputs": [],
      "source": [
        "vec = CountVectorizer( )"
      ]
    },
    {
      "cell_type": "code",
      "execution_count": 85,
      "metadata": {
        "id": "ZaKLuQ9FFqKi",
        "outputId": "34a9dc13-19d7-4ca2-aa67-e6ff81f84269",
        "colab": {
          "base_uri": "https://localhost:8080/"
        }
      },
      "outputs": [
        {
          "output_type": "execute_result",
          "data": {
            "text/plain": [
              "{'freemsg': 58,\n",
              " 'hey': 70,\n",
              " 'there': 140,\n",
              " 'darling': 48,\n",
              " 'it': 78,\n",
              " 'been': 25,\n",
              " 'week': 161,\n",
              " 'now': 100,\n",
              " 'and': 18,\n",
              " 'no': 98,\n",
              " 'word': 169,\n",
              " 'back': 23,\n",
              " 'like': 83,\n",
              " 'some': 128,\n",
              " 'fun': 62,\n",
              " 'you': 174,\n",
              " 'up': 150,\n",
              " 'for': 56,\n",
              " 'still': 132,\n",
              " 'tb': 137,\n",
              " 'ok': 103,\n",
              " 'xxx': 172,\n",
              " 'std': 131,\n",
              " 'chgs': 35,\n",
              " 'to': 144,\n",
              " 'send': 125,\n",
              " '50': 10,\n",
              " 'rcv': 117,\n",
              " 'even': 55,\n",
              " 'my': 94,\n",
              " 'brother': 28,\n",
              " 'is': 77,\n",
              " 'not': 99,\n",
              " 'speak': 130,\n",
              " 'with': 165,\n",
              " 'me': 85,\n",
              " 'they': 141,\n",
              " 'treat': 147,\n",
              " 'aids': 16,\n",
              " 'patent': 109,\n",
              " 'as': 21,\n",
              " 'per': 110,\n",
              " 'your': 175,\n",
              " 'request': 120,\n",
              " 'melle': 86,\n",
              " 'oru': 107,\n",
              " 'minnaminunginte': 89,\n",
              " 'nurungu': 101,\n",
              " 'vettam': 157,\n",
              " 'has': 66,\n",
              " 'set': 126,\n",
              " 'callertune': 31,\n",
              " 'all': 17,\n",
              " 'callers': 30,\n",
              " 'press': 113,\n",
              " 'copy': 42,\n",
              " 'friends': 59,\n",
              " 'winner': 164,\n",
              " 'valued': 155,\n",
              " 'network': 96,\n",
              " 'customer': 47,\n",
              " 'have': 67,\n",
              " 'selected': 124,\n",
              " 'receivea': 118,\n",
              " '900': 14,\n",
              " 'prize': 114,\n",
              " 'reward': 121,\n",
              " 'claim': 36,\n",
              " 'call': 29,\n",
              " '09061701461': 2,\n",
              " 'code': 39,\n",
              " 'kl341': 80,\n",
              " 'valid': 154,\n",
              " '12': 5,\n",
              " 'hours': 73,\n",
              " 'only': 105,\n",
              " 'had': 65,\n",
              " 'mobile': 90,\n",
              " '11': 4,\n",
              " 'months': 92,\n",
              " 'or': 106,\n",
              " 'more': 93,\n",
              " 'entitled': 54,\n",
              " 'update': 151,\n",
              " 'the': 139,\n",
              " 'latest': 81,\n",
              " 'colour': 40,\n",
              " 'mobiles': 91,\n",
              " 'camera': 32,\n",
              " 'free': 57,\n",
              " 'co': 38,\n",
              " 'on': 104,\n",
              " '08002986030': 1,\n",
              " 'gonna': 63,\n",
              " 'be': 24,\n",
              " 'home': 72,\n",
              " 'soon': 129,\n",
              " 'don': 52,\n",
              " 'want': 158,\n",
              " 'talk': 136,\n",
              " 'about': 15,\n",
              " 'this': 142,\n",
              " 'stuff': 133,\n",
              " 'anymore': 19,\n",
              " 'tonight': 146,\n",
              " 've': 156,\n",
              " 'cried': 45,\n",
              " 'enough': 53,\n",
              " 'today': 145,\n",
              " 'six': 127,\n",
              " 'chances': 34,\n",
              " 'win': 163,\n",
              " 'cash': 33,\n",
              " 'from': 60,\n",
              " '100': 3,\n",
              " '20': 8,\n",
              " '000': 0,\n",
              " 'pounds': 112,\n",
              " 'txt': 149,\n",
              " 'csh11': 46,\n",
              " '87575': 13,\n",
              " 'cost': 43,\n",
              " '150p': 6,\n",
              " 'day': 50,\n",
              " '6days': 11,\n",
              " '16': 7,\n",
              " 'tsandcs': 148,\n",
              " 'apply': 20,\n",
              " 'reply': 119,\n",
              " 'hl': 71,\n",
              " 'info': 76,\n",
              " 'urgent': 152,\n",
              " 'won': 166,\n",
              " 'membership': 87,\n",
              " 'in': 75,\n",
              " 'our': 108,\n",
              " 'jackpot': 79,\n",
              " '81010': 12,\n",
              " 'www': 171,\n",
              " 'dbuk': 51,\n",
              " 'net': 95,\n",
              " 'lccltd': 82,\n",
              " 'pobox': 111,\n",
              " '4403ldnw1a7rw18': 9,\n",
              " 'searching': 123,\n",
              " 'right': 122,\n",
              " 'words': 170,\n",
              " 'thank': 138,\n",
              " 'breather': 27,\n",
              " 'promise': 115,\n",
              " 'wont': 168,\n",
              " 'take': 135,\n",
              " 'help': 68,\n",
              " 'granted': 64,\n",
              " 'will': 162,\n",
              " 'fulfil': 61,\n",
              " 'wonderful': 167,\n",
              " 'blessing': 26,\n",
              " 'at': 22,\n",
              " 'times': 143,\n",
              " 'date': 49,\n",
              " 'sunday': 134,\n",
              " 'xxxmobilemovieclub': 173,\n",
              " 'use': 153,\n",
              " 'credit': 44,\n",
              " 'click': 37,\n",
              " 'wap': 159,\n",
              " 'link': 84,\n",
              " 'next': 97,\n",
              " 'message': 88,\n",
              " 'here': 69,\n",
              " 'http': 74,\n",
              " 'com': 41,\n",
              " 'qjkgighjjgcbl': 116,\n",
              " 'oh': 102,\n",
              " 'watching': 160}"
            ]
          },
          "metadata": {},
          "execution_count": 85
        }
      ],
      "source": [
        "vec.fit(X)\n",
        "vec.vocabulary_"
      ]
    },
    {
      "cell_type": "code",
      "execution_count": 86,
      "metadata": {
        "colab": {
          "base_uri": "https://localhost:8080/"
        },
        "id": "dGr0flNfFqKj",
        "outputId": "91f7783d-1121-454f-f98d-9ea37eeb9078"
      },
      "outputs": [
        {
          "output_type": "execute_result",
          "data": {
            "text/plain": [
              "{'freemsg': 45,\n",
              " 'hey': 52,\n",
              " 'darling': 38,\n",
              " 'week': 118,\n",
              " 'word': 124,\n",
              " 'like': 62,\n",
              " 'fun': 48,\n",
              " 'tb': 100,\n",
              " 'ok': 75,\n",
              " 'xxx': 127,\n",
              " 'std': 96,\n",
              " 'chgs': 26,\n",
              " 'send': 92,\n",
              " '50': 10,\n",
              " 'rcv': 84,\n",
              " 'brother': 20,\n",
              " 'speak': 95,\n",
              " 'treat': 105,\n",
              " 'aids': 15,\n",
              " 'patent': 77,\n",
              " 'request': 87,\n",
              " 'melle': 64,\n",
              " 'oru': 76,\n",
              " 'minnaminunginte': 67,\n",
              " 'nurungu': 73,\n",
              " 'vettam': 114,\n",
              " 'set': 93,\n",
              " 'callertune': 22,\n",
              " 'callers': 21,\n",
              " 'press': 80,\n",
              " 'copy': 32,\n",
              " 'friends': 46,\n",
              " 'winner': 120,\n",
              " 'valued': 112,\n",
              " 'network': 72,\n",
              " 'customer': 37,\n",
              " 'selected': 91,\n",
              " 'receivea': 85,\n",
              " '900': 14,\n",
              " 'prize': 81,\n",
              " 'reward': 88,\n",
              " 'claim': 27,\n",
              " '09061701461': 2,\n",
              " 'code': 29,\n",
              " 'kl341': 59,\n",
              " 'valid': 111,\n",
              " '12': 5,\n",
              " 'hours': 55,\n",
              " 'mobile': 68,\n",
              " '11': 4,\n",
              " 'months': 70,\n",
              " 'entitled': 43,\n",
              " 'update': 108,\n",
              " 'latest': 60,\n",
              " 'colour': 30,\n",
              " 'mobiles': 69,\n",
              " 'camera': 23,\n",
              " 'free': 44,\n",
              " '08002986030': 1,\n",
              " 'gonna': 49,\n",
              " 'home': 54,\n",
              " 'soon': 94,\n",
              " 'don': 42,\n",
              " 'want': 115,\n",
              " 'talk': 99,\n",
              " 'stuff': 97,\n",
              " 'anymore': 16,\n",
              " 'tonight': 104,\n",
              " 've': 113,\n",
              " 'cried': 35,\n",
              " 'today': 103,\n",
              " 'chances': 25,\n",
              " 'win': 119,\n",
              " 'cash': 24,\n",
              " '100': 3,\n",
              " '20': 8,\n",
              " '000': 0,\n",
              " 'pounds': 79,\n",
              " 'txt': 107,\n",
              " 'csh11': 36,\n",
              " '87575': 13,\n",
              " 'cost': 33,\n",
              " '150p': 6,\n",
              " 'day': 40,\n",
              " '6days': 11,\n",
              " '16': 7,\n",
              " 'tsandcs': 106,\n",
              " 'apply': 17,\n",
              " 'reply': 86,\n",
              " 'hl': 53,\n",
              " 'info': 57,\n",
              " 'urgent': 109,\n",
              " 'won': 121,\n",
              " 'membership': 65,\n",
              " 'jackpot': 58,\n",
              " '81010': 12,\n",
              " 'www': 126,\n",
              " 'dbuk': 41,\n",
              " 'net': 71,\n",
              " 'lccltd': 61,\n",
              " 'pobox': 78,\n",
              " '4403ldnw1a7rw18': 9,\n",
              " 'searching': 90,\n",
              " 'right': 89,\n",
              " 'words': 125,\n",
              " 'thank': 101,\n",
              " 'breather': 19,\n",
              " 'promise': 82,\n",
              " 'wont': 123,\n",
              " 'help': 51,\n",
              " 'granted': 50,\n",
              " 'fulfil': 47,\n",
              " 'wonderful': 122,\n",
              " 'blessing': 18,\n",
              " 'times': 102,\n",
              " 'date': 39,\n",
              " 'sunday': 98,\n",
              " 'xxxmobilemovieclub': 128,\n",
              " 'use': 110,\n",
              " 'credit': 34,\n",
              " 'click': 28,\n",
              " 'wap': 116,\n",
              " 'link': 63,\n",
              " 'message': 66,\n",
              " 'http': 56,\n",
              " 'com': 31,\n",
              " 'qjkgighjjgcbl': 83,\n",
              " 'oh': 74,\n",
              " 'watching': 117}"
            ]
          },
          "metadata": {},
          "execution_count": 86
        }
      ],
      "source": [
        "vec = CountVectorizer(stop_words='english')\n",
        "vec.fit(X)\n",
        "vec.vocabulary_"
      ]
    },
    {
      "cell_type": "code",
      "execution_count": 87,
      "metadata": {
        "colab": {
          "base_uri": "https://localhost:8080/"
        },
        "id": "ryWEBCQWFqKk",
        "outputId": "6de8628c-517a-47e5-dd9f-b1c589de42e6"
      },
      "outputs": [
        {
          "output_type": "stream",
          "name": "stdout",
          "text": [
            "['000' '08002986030' '09061701461' '100' '11' '12' '150p' '16' '20'\n",
            " '4403ldnw1a7rw18' '50' '6days' '81010' '87575' '900' 'aids' 'anymore'\n",
            " 'apply' 'blessing' 'breather' 'brother' 'callers' 'callertune' 'camera'\n",
            " 'cash' 'chances' 'chgs' 'claim' 'click' 'code' 'colour' 'com' 'copy'\n",
            " 'cost' 'credit' 'cried' 'csh11' 'customer' 'darling' 'date' 'day' 'dbuk'\n",
            " 'don' 'entitled' 'free' 'freemsg' 'friends' 'fulfil' 'fun' 'gonna'\n",
            " 'granted' 'help' 'hey' 'hl' 'home' 'hours' 'http' 'info' 'jackpot'\n",
            " 'kl341' 'latest' 'lccltd' 'like' 'link' 'melle' 'membership' 'message'\n",
            " 'minnaminunginte' 'mobile' 'mobiles' 'months' 'net' 'network' 'nurungu'\n",
            " 'oh' 'ok' 'oru' 'patent' 'pobox' 'pounds' 'press' 'prize' 'promise'\n",
            " 'qjkgighjjgcbl' 'rcv' 'receivea' 'reply' 'request' 'reward' 'right'\n",
            " 'searching' 'selected' 'send' 'set' 'soon' 'speak' 'std' 'stuff' 'sunday'\n",
            " 'talk' 'tb' 'thank' 'times' 'today' 'tonight' 'treat' 'tsandcs' 'txt'\n",
            " 'update' 'urgent' 'use' 'valid' 'valued' 've' 'vettam' 'want' 'wap'\n",
            " 'watching' 'week' 'win' 'winner' 'won' 'wonderful' 'wont' 'word' 'words'\n",
            " 'www' 'xxx' 'xxxmobilemovieclub']\n",
            "129\n"
          ]
        }
      ],
      "source": [
        "\n",
        "print(vec.get_feature_names_out())\n",
        "print(len(vec.get_feature_names_out()))"
      ]
    },
    {
      "cell_type": "code",
      "execution_count": 88,
      "metadata": {
        "colab": {
          "base_uri": "https://localhost:8080/"
        },
        "id": "aMmEI-H2FqKl",
        "outputId": "e3c02eef-5552-440d-d1ae-07e086d9e437"
      },
      "outputs": [
        {
          "output_type": "execute_result",
          "data": {
            "text/plain": [
              "<12x129 sparse matrix of type '<class 'numpy.int64'>'\n",
              "\twith 141 stored elements in Compressed Sparse Row format>"
            ]
          },
          "metadata": {},
          "execution_count": 88
        }
      ],
      "source": [
        "X_transformed=vec.transform(X)\n",
        "X_transformed"
      ]
    },
    {
      "cell_type": "code",
      "execution_count": 68,
      "metadata": {
        "colab": {
          "base_uri": "https://localhost:8080/"
        },
        "id": "S43QuaivFqKl",
        "outputId": "4c84939d-078a-40a8-acb9-d7aa06d591a2"
      },
      "outputs": [
        {
          "output_type": "execute_result",
          "data": {
            "text/plain": [
              "array([[0, 0, 0, ..., 0, 0, 0],\n",
              "       [0, 0, 0, ..., 0, 0, 0],\n",
              "       [0, 0, 0, ..., 0, 0, 0],\n",
              "       ...,\n",
              "       [0, 0, 0, ..., 0, 0, 0],\n",
              "       [0, 0, 0, ..., 0, 0, 0],\n",
              "       [0, 0, 0, ..., 0, 0, 0]])"
            ]
          },
          "metadata": {},
          "execution_count": 68
        }
      ],
      "source": [
        "X=X_transformed.toarray()\n",
        "X"
      ]
    },
    {
      "cell_type": "code",
      "execution_count": 92,
      "metadata": {
        "colab": {
          "base_uri": "https://localhost:8080/"
        },
        "id": "lsaFm5pDFqKm",
        "outputId": "9e669f37-974d-404f-e450-cdaa56707f88"
      },
      "outputs": [
        {
          "output_type": "stream",
          "name": "stdout",
          "text": [
            "   first  second  text  third\n",
            "0      1       0     1      0\n",
            "1      0       1     1      0\n",
            "2      0       0     1      1\n"
          ]
        }
      ],
      "source": [
        "X = [\"First text\", \"Second text\", \"Third text\"]\n",
        "\n",
        "# Create an instance of CountVectorizer (replace with your vectorization method)\n",
        "vec = CountVectorizer()\n",
        "\n",
        "# Convert list of strings to lowercase\n",
        "X_lower = [text.lower() for text in X]\n",
        "\n",
        "# Fit and transform your data\n",
        "X_transformed = vec.fit_transform(X_lower)\n",
        "\n",
        "# Create a DataFrame with the correct number of columns\n",
        "df = pd.DataFrame(X_transformed.toarray(), columns=vec.get_feature_names_out())\n",
        "\n",
        "print(df)"
      ]
    },
    {
      "cell_type": "code",
      "execution_count": 94,
      "metadata": {
        "id": "jTbCBlEuFqKm"
      },
      "outputs": [],
      "source": [
        "df2 = pd.read_csv(\"Test_spam.csv\", encoding='latin1') \n",
        "df2\n",
        "from sklearn.preprocessing import LabelEncoder"
      ]
    },
    {
      "cell_type": "code",
      "execution_count": 95,
      "metadata": {
        "colab": {
          "base_uri": "https://localhost:8080/"
        },
        "id": "plxzeK1WFqKn",
        "outputId": "34f18e9e-e2e5-45d3-f310-3e59b4fe27d9"
      },
      "outputs": [
        {
          "output_type": "stream",
          "name": "stdout",
          "text": [
            "X_test:\n",
            "['spam' 'ham' 'ham' 'spam' 'spam' 'ham' 'spam' 'spam' 'ham' 'ham' 'spam'\n",
            " 'ham']\n",
            "y_test:\n",
            "[ 2  1  0 10  3  5  8  9  6  4 11  7]\n"
          ]
        }
      ],
      "source": [
        "test_numpy_array = df2.values\n",
        "X_test = test_numpy_array[:, 0]\n",
        "y_test = test_numpy_array[:, 1]\n",
        "label_encoder = LabelEncoder()\n",
        "y_test = label_encoder.fit_transform(y_test)\n",
        "\n",
        "print(\"X_test:\")\n",
        "print(X_test)\n",
        "print(\"y_test:\")\n",
        "print(y_test)\n"
      ]
    },
    {
      "cell_type": "code",
      "execution_count": 96,
      "metadata": {
        "colab": {
          "base_uri": "https://localhost:8080/"
        },
        "id": "a-VnpiC4FqKo",
        "outputId": "7b267e9c-9c68-460d-c716-1d3b4f23e094"
      },
      "outputs": [
        {
          "output_type": "execute_result",
          "data": {
            "text/plain": [
              "<12x4 sparse matrix of type '<class 'numpy.int64'>'\n",
              "\twith 0 stored elements in Compressed Sparse Row format>"
            ]
          },
          "metadata": {},
          "execution_count": 96
        }
      ],
      "source": [
        "X_test_transformed=vec.transform(X_test)\n",
        "X_test_transformed"
      ]
    },
    {
      "cell_type": "code",
      "execution_count": 97,
      "metadata": {
        "colab": {
          "base_uri": "https://localhost:8080/"
        },
        "id": "jRBvRzL5FqKo",
        "outputId": "869b7741-1309-4929-9336-5e264f414148"
      },
      "outputs": [
        {
          "output_type": "execute_result",
          "data": {
            "text/plain": [
              "array([[0, 0, 0, 0],\n",
              "       [0, 0, 0, 0],\n",
              "       [0, 0, 0, 0],\n",
              "       [0, 0, 0, 0],\n",
              "       [0, 0, 0, 0],\n",
              "       [0, 0, 0, 0],\n",
              "       [0, 0, 0, 0],\n",
              "       [0, 0, 0, 0],\n",
              "       [0, 0, 0, 0],\n",
              "       [0, 0, 0, 0],\n",
              "       [0, 0, 0, 0],\n",
              "       [0, 0, 0, 0]])"
            ]
          },
          "metadata": {},
          "execution_count": 97
        }
      ],
      "source": [
        "X_test=X_test_transformed.toarray()\n",
        "X_test"
      ]
    },
    {
      "cell_type": "code",
      "execution_count": 99,
      "metadata": {
        "colab": {
          "base_uri": "https://localhost:8080/"
        },
        "id": "rnBc9NI4FqKp",
        "outputId": "d34a77bb-a400-4a0f-eead-8b58ca2dd9a9"
      },
      "outputs": [
        {
          "output_type": "stream",
          "name": "stdout",
          "text": [
            "[[0.69230769 0.30769231]\n",
            " [0.69230769 0.30769231]]\n"
          ]
        }
      ],
      "source": [
        "texts = [\"First text\", \"Second text\", \"Third text\"]\n",
        "\n",
        "# Create an instance of CountVectorizer\n",
        "vec = CountVectorizer()\n",
        "\n",
        "# Fit and transform the texts\n",
        "X = vec.fit_transform(texts)\n",
        "\n",
        "# Example target variable\n",
        "Y = [0, 1, 0]  # Assuming binary classification with 0 and 1 labels\n",
        "\n",
        "# Create an instance of MultinomialNB\n",
        "mnb = MultinomialNB()\n",
        "\n",
        "# Fit the model\n",
        "mnb.fit(X, Y)\n",
        "\n",
        "# Example test data\n",
        "test_texts = [\"Fourth text\", \"Fifth text\"]\n",
        "\n",
        "# Transform the test data using the same vectorizer\n",
        "X_test = vec.transform(test_texts)\n",
        "\n",
        "# Make predictions on the test data\n",
        "predictions = mnb.predict_proba(X_test)\n",
        "\n",
        "print(predictions)"
      ]
    },
    {
      "cell_type": "code",
      "execution_count": 102,
      "metadata": {
        "colab": {
          "base_uri": "https://localhost:8080/"
        },
        "id": "5bHuCm4sFqKp",
        "outputId": "453f40d6-98a4-4667-8624-2fecc7b7a3ec"
      },
      "outputs": [
        {
          "output_type": "stream",
          "name": "stdout",
          "text": [
            "Accuracy: 0.7\n"
          ]
        }
      ],
      "source": [
        "from sklearn.metrics import accuracy_score\n",
        "\n",
        "# Assuming y_test is the true labels and y_prediction is the predicted labels\n",
        "y_test = [0, 1, 0, 1, 1, 0, 0, 1, 0, 1, 0, 1]\n",
        "y_prediction = [0, 1, 0, 1, 0, 1, 0, 1, 1, 1]  # Example predicted labels\n",
        "\n",
        "# Make sure y_test and y_prediction have the same number of samples\n",
        "if len(y_test) > len(y_prediction):\n",
        "    y_test = y_test[:len(y_prediction)]\n",
        "else:\n",
        "    y_prediction = y_prediction[:len(y_test)]\n",
        "\n",
        "# Calculate accuracy\n",
        "acc = accuracy_score(y_test, y_prediction)\n",
        "\n",
        "print(\"Accuracy:\", acc)\n"
      ]
    },
    {
      "cell_type": "code",
      "execution_count": null,
      "metadata": {
        "id": "bq-1Bcy7FqKq"
      },
      "outputs": [],
      "source": []
    }
  ],
  "metadata": {
    "kernelspec": {
      "display_name": "Python 3",
      "language": "python",
      "name": "python3"
    },
    "language_info": {
      "codemirror_mode": {
        "name": "ipython",
        "version": 3
      },
      "file_extension": ".py",
      "mimetype": "text/x-python",
      "name": "python",
      "nbconvert_exporter": "python",
      "pygments_lexer": "ipython3",
      "version": "3.8.3"
    },
    "colab": {
      "provenance": [],
      "include_colab_link": true
    }
  },
  "nbformat": 4,
  "nbformat_minor": 0
}